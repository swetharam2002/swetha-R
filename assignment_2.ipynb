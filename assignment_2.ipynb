{
  "nbformat": 4,
  "nbformat_minor": 0,
  "metadata": {
    "colab": {
      "name": "assignment 2.ipynb",
      "provenance": [],
      "collapsed_sections": [],
      "authorship_tag": "ABX9TyODjBSDb9S8WUBURjfZY4hg",
      "include_colab_link": true
    },
    "kernelspec": {
      "name": "python3",
      "display_name": "Python 3"
    },
    "language_info": {
      "name": "python"
    }
  },
  "cells": [
    {
      "cell_type": "markdown",
      "metadata": {
        "id": "view-in-github",
        "colab_type": "text"
      },
      "source": [
        "<a href=\"https://colab.research.google.com/github/swetharam2002/swetha-R/blob/main/assignment_2.ipynb\" target=\"_parent\"><img src=\"https://colab.research.google.com/assets/colab-badge.svg\" alt=\"Open In Colab\"/></a>"
      ]
    },
    {
      "cell_type": "code",
      "metadata": {
        "colab": {
          "base_uri": "https://localhost:8080/"
        },
        "id": "83KqH-OMabBM",
        "outputId": "9b599aa6-1da4-41f0-b6c8-c99ca499d72f"
      },
      "source": [
        "# remove all occurences of the list\n",
        "element=[11,29,11,32,42,29,71]\n",
        "print('list with occurences', element)\n",
        "print(element)\n",
        "element.remove(11)\n",
        "element.remove(29)\n",
        "print (type(element))\n",
        "print(\"list with removed all occurences\", element)"
      ],
      "execution_count": null,
      "outputs": [
        {
          "output_type": "stream",
          "text": [
            "list with occurences [11, 29, 11, 32, 42, 29, 71]\n",
            "[11, 29, 11, 32, 42, 29, 71]\n",
            "<class 'list'>\n",
            "list with removed all occurences [11, 32, 42, 29, 71]\n"
          ],
          "name": "stdout"
        }
      ]
    },
    {
      "cell_type": "code",
      "metadata": {
        "colab": {
          "base_uri": "https://localhost:8080/"
        },
        "id": "vEs7eFMJe2kt",
        "outputId": "a9a3b73e-4045-496c-fb3a-4d5c281092d2"
      },
      "source": [
        "# mini project \n",
        "#otp generation using random module\n",
        "import random as r\n",
        "import string\n",
        "size=8\n",
        "otp =' '\n",
        "characters = string.ascii_letters + string.digits\n",
        "#to get otp only in alphabets we use string.ascii_letters\n",
        "#to numbers we use string.digits\n",
        "for i in range(size):\n",
        " otp = otp + r.choice(characters)\n",
        "print('your otp', otp)\n"
      ],
      "execution_count": null,
      "outputs": [
        {
          "output_type": "stream",
          "text": [
            "your otp  uBujiVwQ\n"
          ],
          "name": "stdout"
        }
      ]
    },
    {
      "cell_type": "code",
      "metadata": {
        "id": "AVdHgm18gPug",
        "colab": {
          "base_uri": "https://localhost:8080/"
        },
        "outputId": "fbbeb930-233b-4003-cab0-7137b66a86fe"
      },
      "source": [
        "#pangram program\n",
        "#check whether the sentence is pangram or not\n",
        "import string\n",
        "def ispangram(str):\n",
        " alphabet =\"abcdefghijklmnopqrstuvwxyz\"\n",
        " for char in alphabet:\n",
        "   if char  not in str.lower():\n",
        "      return False\n",
        " return True\n",
        "string = \"pack my box with five or four dozen liquid jugs\"\n",
        "if (ispangram(string) == True):\n",
        "  print(\"the given sentence is a pangram\")\n",
        "else:\n",
        "   print(\"the given sentence is not a pangram\")"
      ],
      "execution_count": null,
      "outputs": [
        {
          "output_type": "stream",
          "text": [
            "the given sentence is a pangram\n"
          ],
          "name": "stdout"
        }
      ]
    },
    {
      "cell_type": "code",
      "metadata": {
        "id": "J3yVkwFX568_"
      },
      "source": [
        ""
      ],
      "execution_count": null,
      "outputs": []
    }
  ]
}