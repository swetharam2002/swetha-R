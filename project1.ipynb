{
  "nbformat": 4,
  "nbformat_minor": 0,
  "metadata": {
    "colab": {
      "name": "project1.ipynb",
      "provenance": [],
      "authorship_tag": "ABX9TyPBo1A8tqD+c1rHcKQgN/VZ",
      "include_colab_link": true
    },
    "kernelspec": {
      "name": "python3",
      "display_name": "Python 3"
    },
    "language_info": {
      "name": "python"
    }
  },
  "cells": [
    {
      "cell_type": "markdown",
      "metadata": {
        "id": "view-in-github",
        "colab_type": "text"
      },
      "source": [
        "<a href=\"https://colab.research.google.com/github/swetharam2002/swetha-R/blob/main/project1.ipynb\" target=\"_parent\"><img src=\"https://colab.research.google.com/assets/colab-badge.svg\" alt=\"Open In Colab\"/></a>"
      ]
    },
    {
      "cell_type": "code",
      "metadata": {
        "id": "VpNTmoQgUvbR",
        "colab": {
          "base_uri": "https://localhost:8080/"
        },
        "outputId": "fc886a8e-33f4-4b9e-c50e-3385d68c7b44"
      },
      "source": [
        "#project\n",
        "#TEMPARATURE CONVERTER\n",
        "print(\"temparature converter\")\n",
        "cel = float(input('celcius is:'))\n",
        "faren = ((cel*1.8)+32)\n",
        "print(\"farenheit of\",cel,\"is\" ,faren)"
      ],
      "execution_count": null,
      "outputs": [
        {
          "output_type": "stream",
          "text": [
            "temparature converter\n",
            "celcius is:50\n",
            "farenheit of 50.0 is 122.0\n"
          ],
          "name": "stdout"
        }
      ]
    },
    {
      "cell_type": "code",
      "metadata": {
        "id": "FWZKLosNRLyV"
      },
      "source": [
        ""
      ],
      "execution_count": null,
      "outputs": []
    }
  ]
}